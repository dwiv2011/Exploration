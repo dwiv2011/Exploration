{
 "cells": [
  {
   "cell_type": "code",
   "execution_count": 8,
   "metadata": {},
   "outputs": [],
   "source": [
    "import os\n",
    "os.getcwd()\n",
    "\n",
    "os.chdir('C:\\\\Users\\\\Neon\\\\Desktop\\\\working\\\\Python\\\\Project')\n",
    "\n"
   ]
  },
  {
   "cell_type": "code",
   "execution_count": 11,
   "metadata": {},
   "outputs": [
    {
     "name": "stdout",
     "output_type": "stream",
     "text": [
      "190.0\n",
      "9440.0\n",
      "Wholesale_price 9630.0\n"
     ]
    }
   ],
   "source": [
    "##Question1\n",
    "\n",
    "c_price=200\n",
    "disc=25\n",
    "F_ship=40\n",
    "o_ship=10\n",
    "\n",
    "print((200-.01*25*200)+40)\n",
    "print(59*(c_price-.01*disc*c_price)+ 59*o_ship)\n",
    "print(\"Wholesale_price\",((c_price-.01*disc*c_price)+F_ship)+(59*(c_price-.01*disc*c_price)+ 59*o_ship))"
   ]
  },
  {
   "cell_type": "code",
   "execution_count": 13,
   "metadata": {},
   "outputs": [
    {
     "name": "stdout",
     "output_type": "stream",
     "text": [
      "True\n",
      "None\n",
      "False\n",
      "None\n"
     ]
    }
   ],
   "source": [
    "#question 2\n",
    "\n",
    "def divisor_test(x,y):\n",
    "\n",
    "    if x%y==0:\n",
    "        print(bool(not x%y))\n",
    "    else :\n",
    "        print(bool(not x%y))\n",
    "\n",
    "\n",
    "divisor_test(8,4) \n"
   ]
  },
  {
   "cell_type": "code",
   "execution_count": 10,
   "metadata": {},
   "outputs": [
    {
     "name": "stdout",
     "output_type": "stream",
     "text": [
      "Enter the first value1800\n",
      "Enter the second value225\n",
      "Enter the third value300\n",
      "225\n",
      "HCF is  75\n"
     ]
    }
   ],
   "source": [
    "#Question 3\n",
    "\n",
    "\n",
    "\n",
    "num1= int(input(\"Enter the first value\"))\n",
    "num2= int(input(\"Enter the second value\"))\n",
    "num3= int(input(\"Enter the third value\"))\n",
    "\n",
    "min_val=min(num1,num2,num3)\n",
    "print(min_val)\n",
    "\n",
    "seq=list(range(min_val,0,-1))\n",
    "\n",
    "\n",
    "for i in seq:\n",
    "    if num1%i==0 and num2%i==0 and num3%i ==0:\n",
    "        print( \"HCF is \",i)\n",
    "        break"
   ]
  },
  {
   "cell_type": "code",
   "execution_count": 35,
   "metadata": {},
   "outputs": [
    {
     "name": "stdout",
     "output_type": "stream",
     "text": [
      "Current day and time : 19 - 45 - 21 : epoch day difference 18146 days, 14:15:21.831437\n"
     ]
    }
   ],
   "source": [
    "#Question 4\n",
    "\n",
    "def datecal():\n",
    "    from pandas import datetime as dt\n",
    "    epoch = dt.fromtimestamp(0)\n",
    "    cd= print( \"Current day and time :\",dt.now().hour,\"-\",dt.now().minute,\"-\",dt.now().second,\": epoch day difference\",dt.now()-epoch)\n",
    "\n",
    "datecal()"
   ]
  },
  {
   "cell_type": "code",
   "execution_count": 39,
   "metadata": {},
   "outputs": [
    {
     "name": "stdout",
     "output_type": "stream",
     "text": [
      "enter the first value3\n",
      "enter the Second value2\n",
      "enter the Second value1\n",
      "Yes\n"
     ]
    }
   ],
   "source": [
    "#Question 5\n",
    "\n",
    "x=[int(input(\"enter the first value\")),int(input(\"enter the Second value\")), int(input(\"enter the Second value\"))]\n",
    "\n",
    "i=0\n",
    "if (x[i] >  (x[i+1]+x[i+2])):\n",
    "    print(\"NO\")\n",
    "elif (x[i+1] > (x[i]+x[i+2])):\n",
    "    print(\"NO\")\n",
    "elif (x[i+2] > (x[i]+x[i+1])):\n",
    "    print(\"NO\")\n",
    "else:\n",
    "    print(\"Yes\")"
   ]
  },
  {
   "cell_type": "code",
   "execution_count": 43,
   "metadata": {
    "scrolled": true
   },
   "outputs": [
    {
     "name": "stdout",
     "output_type": "stream",
     "text": [
      "number of element3\n",
      "You have selected a list with element =  3\n",
      "enter the 0 element 1\n",
      "enter the 1 element 2\n",
      "enter the 2 element 3\n",
      "1\n",
      "2\n",
      "3\n",
      "inital list [1, 2, 3]\n"
     ]
    },
    {
     "data": {
      "text/plain": [
       "[1, 3, 6]"
      ]
     },
     "execution_count": 43,
     "metadata": {},
     "output_type": "execute_result"
    }
   ],
   "source": [
    "#Question 7\n",
    "\n",
    "n=int(input(\"number of element\"))\n",
    "\n",
    "print(\"You have selected a list with element = \",n )\n",
    "li=[]\n",
    "for i in range(n):\n",
    "    li.append(int(input( f\"enter the {i} element \")))\n",
    "final=[]\n",
    "for i in range(n):\n",
    "    print(li[i])\n",
    "    if i==0:\n",
    "        \n",
    "        final.append(li[i])\n",
    "    else:\n",
    "        final.append(li[i]+final[i-1])\n",
    "print(\"inital list\",li)\n",
    "final"
   ]
  },
  {
   "cell_type": "code",
   "execution_count": 69,
   "metadata": {},
   "outputs": [
    {
     "name": "stdout",
     "output_type": "stream",
     "text": [
      "initial string :  this is line fir1 $ this is line  second2 @ this is line third3 %\n"
     ]
    },
    {
     "data": {
      "text/plain": [
       "'THIS IS LINE FIR  THIS IS LINE  SECOND  THIS IS LINE THIRD '"
      ]
     },
     "execution_count": 69,
     "metadata": {},
     "output_type": "execute_result"
    }
   ],
   "source": [
    "#Question 8\n",
    "import string \n",
    "\n",
    "'''\n",
    "this is line fir1 $\n",
    "this is line  second2 @\n",
    "this is line third3 %\n",
    "'''\n",
    "\n",
    "## reading text file \n",
    "f=open('input_file.txt')\n",
    "data=f.read().replace('\\n', ' ')\n",
    " \n",
    "# printing initial ini_string \n",
    "print(\"initial string : \", data) \n",
    "\n",
    "\n",
    "\n",
    "# to remove numeric digits and ounctuation  from string \n",
    "remove_digits = str.maketrans('', '', string.digits) \n",
    "remove_punctuation = str.maketrans('', '', string.punctuation)\n",
    "\n",
    "# using translate \n",
    "rem=data.translate(remove_digits)\n",
    "\n",
    "rem2=rem.translate(remove_punctuation)\n",
    "\n",
    "' '.join(rem2.split())\n",
    "\n",
    "rem2.upper()\n"
   ]
  },
  {
   "cell_type": "code",
   "execution_count": 85,
   "metadata": {},
   "outputs": [
    {
     "name": "stdout",
     "output_type": "stream",
     "text": [
      "C:\\Users\\Neon\\Desktop\\working\\Python ['input_file.txt', 'learning.ipynb']\n",
      "C:\\Users\\Neon\\Desktop\\working\\Python\\.ipynb_checkpoints ['learning-checkpoint.ipynb']\n",
      "C:\\Users\\Neon\\Desktop\\working\\Python\\Project ['input_file.txt', 'Project.txt']\n",
      "C:\\Users\\Neon\\Desktop\\working\\Python\\Session 1 ['Day 1.ipynb']\n",
      "C:\\Users\\Neon\\Desktop\\working\\Python\\Session 1\\.ipynb_checkpoints ['Day 1-checkpoint.ipynb']\n",
      "C:\\Users\\Neon\\Desktop\\working\\Python\\Session 2 ['Pandas.ipynb', 'read.txt', 'Untitled.ipynb']\n",
      "C:\\Users\\Neon\\Desktop\\working\\Python\\Session 2\\.ipynb_checkpoints ['Pandas-checkpoint.ipynb', 'Untitled-checkpoint.ipynb']\n",
      "C:\\Users\\Neon\\Desktop\\working\\Python\\Session 4 ['IMDB Case Study Python3.ipynb', 'IMDB Case Study.ipynb', 'test.csv', 'Titanic_Case_Python3.ipynb', 'train.csv', 'Twitter Case Study Python3.ipynb', 'twitter_data.csv', 'u.user', 'Untitled.ipynb']\n",
      "C:\\Users\\Neon\\Desktop\\working\\Python\\Session 4\\.ipynb_checkpoints ['IMDB Case Study-checkpoint.ipynb', 'Titanic_Case_Python3-checkpoint.ipynb', 'Twitter Case Study Python3-checkpoint.ipynb', 'Untitled-checkpoint.ipynb']\n"
     ]
    }
   ],
   "source": [
    "#Question 9\n",
    "\n",
    "from os import walk\n",
    "\n",
    "path =\"C:\\\\Users\\\\Neon\\\\Desktop\\\\working\\\\Python\"\n",
    "for (dirpath, dirnames, filenames) in walk(path):\n",
    "     print(dirpath,filenames)\n"
   ]
  },
  {
   "cell_type": "code",
   "execution_count": 92,
   "metadata": {},
   "outputs": [
    {
     "name": "stdout",
     "output_type": "stream",
     "text": [
      "c\n"
     ]
    },
    {
     "data": {
      "text/plain": [
       "'True'"
      ]
     },
     "execution_count": 92,
     "metadata": {},
     "output_type": "execute_result"
    }
   ],
   "source": [
    "#Question 6\n",
    "\n",
    "def any_uppercase2(s): \n",
    "    for c in s:\n",
    "        if 'C'.isupper(): \n",
    "            print(c)\n",
    "            return 'True'\n",
    "        else:\n",
    "            return 'False'\n",
    "\n",
    "any_uppercase2(\"cat\")"
   ]
  },
  {
   "cell_type": "code",
   "execution_count": 94,
   "metadata": {},
   "outputs": [
    {
     "data": {
      "text/plain": [
       "True"
      ]
     },
     "execution_count": 94,
     "metadata": {},
     "output_type": "execute_result"
    }
   ],
   "source": [
    "def any_uppercase3(s): \n",
    "    for c in s:\n",
    "        flag =c.isupper()    \n",
    "        return flag\n",
    "\n",
    "any_uppercase3(\"FasT\")"
   ]
  },
  {
   "cell_type": "code",
   "execution_count": 96,
   "metadata": {},
   "outputs": [
    {
     "data": {
      "text/plain": [
       "True"
      ]
     },
     "execution_count": 96,
     "metadata": {},
     "output_type": "execute_result"
    }
   ],
   "source": [
    "def any_uppercase4(s): \n",
    "    flag = False\n",
    "    for c in s:\n",
    "        flag = flag or c.isupper() \n",
    "        return flag\n",
    "    \n",
    "any_uppercase4(\"FasT\")"
   ]
  },
  {
   "cell_type": "code",
   "execution_count": 105,
   "metadata": {},
   "outputs": [
    {
     "data": {
      "text/plain": [
       "False"
      ]
     },
     "execution_count": 105,
     "metadata": {},
     "output_type": "execute_result"
    }
   ],
   "source": [
    "def any_uppercase5(s): \n",
    "    for c in s:\n",
    "        if not  c.isupper():\n",
    "            return False\n",
    "        return True\n",
    "\n",
    "any_uppercase5(\"FasT\")"
   ]
  },
  {
   "cell_type": "code",
   "execution_count": 106,
   "metadata": {},
   "outputs": [],
   "source": [
    "##Question11\n",
    "\n",
    "import pandas as pd\n",
    "\n",
    "eq=pd.read_csv(\"Indian_cities.csv\")\n"
   ]
  },
  {
   "cell_type": "code",
   "execution_count": 107,
   "metadata": {},
   "outputs": [
    {
     "data": {
      "text/plain": [
       "(493, 22)"
      ]
     },
     "execution_count": 107,
     "metadata": {},
     "output_type": "execute_result"
    }
   ],
   "source": [
    "eq.shape"
   ]
  },
  {
   "cell_type": "code",
   "execution_count": 108,
   "metadata": {},
   "outputs": [
    {
     "data": {
      "text/html": [
       "<div>\n",
       "<style scoped>\n",
       "    .dataframe tbody tr th:only-of-type {\n",
       "        vertical-align: middle;\n",
       "    }\n",
       "\n",
       "    .dataframe tbody tr th {\n",
       "        vertical-align: top;\n",
       "    }\n",
       "\n",
       "    .dataframe thead th {\n",
       "        text-align: right;\n",
       "    }\n",
       "</style>\n",
       "<table border=\"1\" class=\"dataframe\">\n",
       "  <thead>\n",
       "    <tr style=\"text-align: right;\">\n",
       "      <th></th>\n",
       "      <th>name_of_city</th>\n",
       "      <th>state_code</th>\n",
       "      <th>state_name</th>\n",
       "      <th>dist_code</th>\n",
       "      <th>population_total</th>\n",
       "      <th>population_male</th>\n",
       "      <th>population_female</th>\n",
       "      <th>0-6_population_total</th>\n",
       "      <th>0-6_population_male</th>\n",
       "      <th>0-6_population_female</th>\n",
       "      <th>...</th>\n",
       "      <th>literates_female</th>\n",
       "      <th>sex_ratio</th>\n",
       "      <th>child_sex_ratio</th>\n",
       "      <th>effective_literacy_rate_total</th>\n",
       "      <th>effective_literacy_rate_male</th>\n",
       "      <th>effective_literacy_rate_female</th>\n",
       "      <th>location</th>\n",
       "      <th>total_graduates</th>\n",
       "      <th>male_graduates</th>\n",
       "      <th>female_graduates</th>\n",
       "    </tr>\n",
       "  </thead>\n",
       "  <tbody>\n",
       "    <tr>\n",
       "      <th>0</th>\n",
       "      <td>Abohar</td>\n",
       "      <td>3</td>\n",
       "      <td>PUNJAB</td>\n",
       "      <td>9</td>\n",
       "      <td>145238</td>\n",
       "      <td>76840</td>\n",
       "      <td>68398</td>\n",
       "      <td>15870</td>\n",
       "      <td>8587</td>\n",
       "      <td>7283</td>\n",
       "      <td>...</td>\n",
       "      <td>44972</td>\n",
       "      <td>890</td>\n",
       "      <td>848</td>\n",
       "      <td>79.86</td>\n",
       "      <td>85.49</td>\n",
       "      <td>73.59</td>\n",
       "      <td>30.1452928,74.1993043</td>\n",
       "      <td>16287</td>\n",
       "      <td>8612</td>\n",
       "      <td>7675</td>\n",
       "    </tr>\n",
       "    <tr>\n",
       "      <th>1</th>\n",
       "      <td>Achalpur</td>\n",
       "      <td>27</td>\n",
       "      <td>MAHARASHTRA</td>\n",
       "      <td>7</td>\n",
       "      <td>112293</td>\n",
       "      <td>58256</td>\n",
       "      <td>54037</td>\n",
       "      <td>11810</td>\n",
       "      <td>6186</td>\n",
       "      <td>5624</td>\n",
       "      <td>...</td>\n",
       "      <td>43086</td>\n",
       "      <td>928</td>\n",
       "      <td>909</td>\n",
       "      <td>91.99</td>\n",
       "      <td>94.77</td>\n",
       "      <td>89.00</td>\n",
       "      <td>21.257584,77.5086754</td>\n",
       "      <td>8863</td>\n",
       "      <td>5269</td>\n",
       "      <td>3594</td>\n",
       "    </tr>\n",
       "    <tr>\n",
       "      <th>2</th>\n",
       "      <td>Adilabad</td>\n",
       "      <td>28</td>\n",
       "      <td>ANDHRA PRADESH</td>\n",
       "      <td>1</td>\n",
       "      <td>117388</td>\n",
       "      <td>59232</td>\n",
       "      <td>58156</td>\n",
       "      <td>13103</td>\n",
       "      <td>6731</td>\n",
       "      <td>6372</td>\n",
       "      <td>...</td>\n",
       "      <td>37660</td>\n",
       "      <td>982</td>\n",
       "      <td>947</td>\n",
       "      <td>80.51</td>\n",
       "      <td>88.18</td>\n",
       "      <td>72.73</td>\n",
       "      <td>19.0809075,79.560344</td>\n",
       "      <td>10565</td>\n",
       "      <td>6797</td>\n",
       "      <td>3768</td>\n",
       "    </tr>\n",
       "    <tr>\n",
       "      <th>3</th>\n",
       "      <td>Adityapur</td>\n",
       "      <td>20</td>\n",
       "      <td>JHARKHAND</td>\n",
       "      <td>24</td>\n",
       "      <td>173988</td>\n",
       "      <td>91495</td>\n",
       "      <td>82493</td>\n",
       "      <td>23042</td>\n",
       "      <td>12063</td>\n",
       "      <td>10979</td>\n",
       "      <td>...</td>\n",
       "      <td>54515</td>\n",
       "      <td>902</td>\n",
       "      <td>910</td>\n",
       "      <td>83.46</td>\n",
       "      <td>89.98</td>\n",
       "      <td>76.23</td>\n",
       "      <td>22.7834741,86.1576889</td>\n",
       "      <td>19225</td>\n",
       "      <td>12189</td>\n",
       "      <td>7036</td>\n",
       "    </tr>\n",
       "    <tr>\n",
       "      <th>4</th>\n",
       "      <td>Adoni</td>\n",
       "      <td>28</td>\n",
       "      <td>ANDHRA PRADESH</td>\n",
       "      <td>21</td>\n",
       "      <td>166537</td>\n",
       "      <td>82743</td>\n",
       "      <td>83794</td>\n",
       "      <td>18406</td>\n",
       "      <td>9355</td>\n",
       "      <td>9051</td>\n",
       "      <td>...</td>\n",
       "      <td>45089</td>\n",
       "      <td>1013</td>\n",
       "      <td>968</td>\n",
       "      <td>68.38</td>\n",
       "      <td>76.58</td>\n",
       "      <td>60.33</td>\n",
       "      <td>15.6322227,77.2728368</td>\n",
       "      <td>11902</td>\n",
       "      <td>7871</td>\n",
       "      <td>4031</td>\n",
       "    </tr>\n",
       "  </tbody>\n",
       "</table>\n",
       "<p>5 rows × 22 columns</p>\n",
       "</div>"
      ],
      "text/plain": [
       "  name_of_city  state_code      state_name  dist_code  population_total  \\\n",
       "0      Abohar            3          PUNJAB          9            145238   \n",
       "1    Achalpur           27     MAHARASHTRA          7            112293   \n",
       "2    Adilabad           28  ANDHRA PRADESH          1            117388   \n",
       "3   Adityapur           20       JHARKHAND         24            173988   \n",
       "4       Adoni           28  ANDHRA PRADESH         21            166537   \n",
       "\n",
       "   population_male  population_female  0-6_population_total  \\\n",
       "0            76840              68398                 15870   \n",
       "1            58256              54037                 11810   \n",
       "2            59232              58156                 13103   \n",
       "3            91495              82493                 23042   \n",
       "4            82743              83794                 18406   \n",
       "\n",
       "   0-6_population_male  0-6_population_female  ...  literates_female  \\\n",
       "0                 8587                   7283  ...             44972   \n",
       "1                 6186                   5624  ...             43086   \n",
       "2                 6731                   6372  ...             37660   \n",
       "3                12063                  10979  ...             54515   \n",
       "4                 9355                   9051  ...             45089   \n",
       "\n",
       "   sex_ratio  child_sex_ratio  effective_literacy_rate_total  \\\n",
       "0        890              848                          79.86   \n",
       "1        928              909                          91.99   \n",
       "2        982              947                          80.51   \n",
       "3        902              910                          83.46   \n",
       "4       1013              968                          68.38   \n",
       "\n",
       "   effective_literacy_rate_male  effective_literacy_rate_female  \\\n",
       "0                         85.49                           73.59   \n",
       "1                         94.77                           89.00   \n",
       "2                         88.18                           72.73   \n",
       "3                         89.98                           76.23   \n",
       "4                         76.58                           60.33   \n",
       "\n",
       "                location  total_graduates male_graduates  female_graduates  \n",
       "0  30.1452928,74.1993043            16287           8612              7675  \n",
       "1   21.257584,77.5086754             8863           5269              3594  \n",
       "2   19.0809075,79.560344            10565           6797              3768  \n",
       "3  22.7834741,86.1576889            19225          12189              7036  \n",
       "4  15.6322227,77.2728368            11902           7871              4031  \n",
       "\n",
       "[5 rows x 22 columns]"
      ]
     },
     "execution_count": 108,
     "metadata": {},
     "output_type": "execute_result"
    }
   ],
   "source": [
    "eq.head()"
   ]
  },
  {
   "cell_type": "code",
   "execution_count": 109,
   "metadata": {},
   "outputs": [],
   "source": [
    "def f(x):\n",
    "     return pd.Series(dict(pop = x['population_total'].sum(), \n",
    "                        pop_male=x['population_male'].sum(),\n",
    "                        pop_fema=x['population_female'].sum()\n",
    "        \n",
    "                        ))\n",
    "\n",
    "\n",
    "count_sum=eq.groupby('state_name').apply(f)"
   ]
  },
  {
   "cell_type": "code",
   "execution_count": 113,
   "metadata": {},
   "outputs": [],
   "source": [
    "count_sum['ratio']=count_sum['pop_fema']/count_sum['pop_male']"
   ]
  },
  {
   "cell_type": "code",
   "execution_count": 119,
   "metadata": {},
   "outputs": [],
   "source": [
    "pop=count_sum.sort_values(by=['pop',], ascending=[False])\n",
    "high_pop=pop.head(10)"
   ]
  },
  {
   "cell_type": "code",
   "execution_count": 120,
   "metadata": {},
   "outputs": [],
   "source": [
    "low_pop=pop.tail(10)"
   ]
  },
  {
   "cell_type": "code",
   "execution_count": 121,
   "metadata": {},
   "outputs": [],
   "source": [
    "##Question 10\n",
    "\n",
    "import pandas as pd\n",
    "\n",
    "eq=pd.read_csv(\"earthquake.csv\")\n",
    "\n",
    "eq[\"Date2\"]= pd.to_datetime(eq[\"Date\"])\n",
    "\n",
    "eq = eq.set_index(['Date2'])\n",
    "\n",
    "eq[\"Date\"]= pd.to_datetime(eq[\"Date\"])\n",
    "\n",
    "eq[\"Date2\"]= pd.to_datetime(eq[\"Date\"])\n",
    "\n",
    "eq = eq.set_index(['Date2'])\n",
    "\n",
    "eq[\"Date\"]= pd.to_datetime(eq[\"Date\"])\n"
   ]
  },
  {
   "cell_type": "code",
   "execution_count": null,
   "metadata": {},
   "outputs": [],
   "source": [
    "def f(x):\n",
    "     return pd.Series(dict(Number_of_incient = x['year'].count(), \n",
    "                        Source=x['Source'].max(),\n",
    "                        Status=x['Status'].min(),\n",
    "                        mag=x['Magnitude'].max(),\n",
    "                        mag2=x['Magnitude'].median()\n",
    "                        ))\n",
    "\n",
    "\n",
    "count_sum=eq.groupby('year').apply(f)\n",
    "\n",
    "count_sum"
   ]
  },
  {
   "cell_type": "code",
   "execution_count": null,
   "metadata": {},
   "outputs": [],
   "source": [
    "count_sum.sort_values(by=['Number_of_incient','mag2'], ascending=[False,False])"
   ]
  },
  {
   "cell_type": "code",
   "execution_count": null,
   "metadata": {},
   "outputs": [],
   "source": [
    "eq.groupby('year').mean().Magnitude"
   ]
  }
 ],
 "metadata": {
  "kernelspec": {
   "display_name": "Python 3",
   "language": "python",
   "name": "python3"
  },
  "language_info": {
   "codemirror_mode": {
    "name": "ipython",
    "version": 3
   },
   "file_extension": ".py",
   "mimetype": "text/x-python",
   "name": "python",
   "nbconvert_exporter": "python",
   "pygments_lexer": "ipython3",
   "version": "3.7.3"
  }
 },
 "nbformat": 4,
 "nbformat_minor": 2
}
